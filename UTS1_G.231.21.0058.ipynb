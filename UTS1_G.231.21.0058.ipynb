{
 "cells": [
  {
   "cell_type": "code",
   "execution_count": 9,
   "metadata": {},
   "outputs": [
    {
     "name": "stdout",
     "output_type": "stream",
     "text": [
      "Akurasi: 81.97%\n",
      "Confusion Matrix:\n",
      " [[37  6]\n",
      " [ 5 13]]\n",
      "Classification Report:\n",
      "               precision    recall  f1-score   support\n",
      "\n",
      "           0       0.88      0.86      0.87        43\n",
      "           1       0.68      0.72      0.70        18\n",
      "\n",
      "    accuracy                           0.82        61\n",
      "   macro avg       0.78      0.79      0.79        61\n",
      "weighted avg       0.82      0.82      0.82        61\n",
      "\n"
     ]
    }
   ],
   "source": [
    "# ⭐ Dheva Marga Putra - G.231.21.0058 ⭐\n",
    "\n",
    "# Import library-library yang dibutuhkan\n",
    "import pandas as pd\n",
    "from sklearn.model_selection import train_test_split\n",
    "from sklearn.preprocessing import LabelEncoder, StandardScaler\n",
    "from sklearn.neighbors import KNeighborsClassifier\n",
    "from sklearn.metrics import accuracy_score, confusion_matrix, classification_report\n",
    "\n",
    "# Baca data dari CSV\n",
    "data = pd.read_csv('CAD_dataset.csv')\n",
    "\n",
    "# Lakukan Label Encoding untuk kolom-kolom data kategorikal\n",
    "label_columns = [\"Sex\", \"Obesity\", \"DLP\", \"WPE\", \"Atypical\", \"Nonanginal\", \"LVH\", \"PRP\", \"CAD\"]\n",
    "le = LabelEncoder()\n",
    "\n",
    "for col in label_columns:\n",
    "    data[col] = le.fit_transform(data[col])\n",
    "\n",
    "# Pisahkan kolom target (CAD) dan fitur\n",
    "X = data.drop(columns=['CAD'])\n",
    "y = data['CAD']\n",
    "\n",
    "# Bagi data menjadi data pelatihan dan data pengujian\n",
    "X_train, X_test, y_train, y_test = train_test_split(X, y, test_size=0.2, random_state=42)\n",
    "\n",
    "# Penskalaan fitur dengan StandardScaler\n",
    "scaler = StandardScaler()\n",
    "X_train = scaler.fit_transform(X_train)\n",
    "X_test = scaler.transform(X_test)\n",
    "\n",
    "# Inisialisasi model K-NN\n",
    "k = 3  # Ganti nilai K sesuai kebutuhan\n",
    "model = KNeighborsClassifier(n_neighbors=k)\n",
    "\n",
    "# Latih model pada data pelatihan\n",
    "model.fit(X_train, y_train)\n",
    "\n",
    "# Lakukan prediksi pada data pengujian\n",
    "y_pred = model.predict(X_test)\n",
    "\n",
    "# Evaluasi model\n",
    "accuracy = accuracy_score(y_test, y_pred)\n",
    "conf_matrix = confusion_matrix(y_test, y_pred)\n",
    "class_report = classification_report(y_test, y_pred)\n",
    "\n",
    "print(\"Akurasi: {:.2f}%\".format(accuracy * 100))\n",
    "print(\"Confusion Matrix:\\n\", conf_matrix)\n",
    "print(\"Classification Report:\\n\", class_report)\n"
   ]
  }
 ],
 "metadata": {
  "kernelspec": {
   "display_name": "Python 3",
   "language": "python",
   "name": "python3"
  },
  "language_info": {
   "codemirror_mode": {
    "name": "ipython",
    "version": 3
   },
   "file_extension": ".py",
   "mimetype": "text/x-python",
   "name": "python",
   "nbconvert_exporter": "python",
   "pygments_lexer": "ipython3",
   "version": "3.12.0"
  }
 },
 "nbformat": 4,
 "nbformat_minor": 2
}
