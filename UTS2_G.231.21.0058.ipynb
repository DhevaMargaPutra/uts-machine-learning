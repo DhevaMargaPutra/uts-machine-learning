{
 "cells": [
  {
   "cell_type": "code",
   "execution_count": 2,
   "metadata": {},
   "outputs": [
    {
     "name": "stdout",
     "output_type": "stream",
     "text": [
      "     car_ID  symboling                   CarName fueltype aspiration  \\\n",
      "0         1          3        alfa-romero giulia      gas        std   \n",
      "1         2          3       alfa-romero stelvio      gas        std   \n",
      "2         3          1  alfa-romero Quadrifoglio      gas        std   \n",
      "3         4          2               audi 100 ls      gas        std   \n",
      "4         5          2                audi 100ls      gas        std   \n",
      "..      ...        ...                       ...      ...        ...   \n",
      "200     201         -1           volvo 145e (sw)      gas        std   \n",
      "201     202         -1               volvo 144ea      gas      turbo   \n",
      "202     203         -1               volvo 244dl      gas        std   \n",
      "203     204         -1                 volvo 246   diesel      turbo   \n",
      "204     205         -1               volvo 264gl      gas      turbo   \n",
      "\n",
      "    doornumber      carbody drivewheel enginelocation  wheelbase  ...  \\\n",
      "0          two  convertible        rwd          front       88.6  ...   \n",
      "1          two  convertible        rwd          front       88.6  ...   \n",
      "2          two    hatchback        rwd          front       94.5  ...   \n",
      "3         four        sedan        fwd          front       99.8  ...   \n",
      "4         four        sedan        4wd          front       99.4  ...   \n",
      "..         ...          ...        ...            ...        ...  ...   \n",
      "200       four        sedan        rwd          front      109.1  ...   \n",
      "201       four        sedan        rwd          front      109.1  ...   \n",
      "202       four        sedan        rwd          front      109.1  ...   \n",
      "203       four        sedan        rwd          front      109.1  ...   \n",
      "204       four        sedan        rwd          front      109.1  ...   \n",
      "\n",
      "     fuelsystem  boreratio  stroke  compressionratio horsepower peakrpm  \\\n",
      "0          mpfi       3.47    2.68               9.0        111    5000   \n",
      "1          mpfi       3.47    2.68               9.0        111    5000   \n",
      "2          mpfi       2.68    3.47               9.0        154    5000   \n",
      "3          mpfi       3.19    3.40              10.0        102    5500   \n",
      "4          mpfi       3.19    3.40               8.0        115    5500   \n",
      "..          ...        ...     ...               ...        ...     ...   \n",
      "200        mpfi       3.78    3.15               9.5        114    5400   \n",
      "201        mpfi       3.78    3.15               8.7        160    5300   \n",
      "202        mpfi       3.58    2.87               8.8        134    5500   \n",
      "203         idi       3.01    3.40              23.0        106    4800   \n",
      "204        mpfi       3.78    3.15               9.5        114    5400   \n",
      "\n",
      "     citympg highwaympg    price  cluster  \n",
      "0         21         27  13495.0        2  \n",
      "1         21         27  16500.0        2  \n",
      "2         19         26  16500.0        2  \n",
      "3         24         30  13950.0        2  \n",
      "4         18         22  17450.0        2  \n",
      "..       ...        ...      ...      ...  \n",
      "200       23         28  16845.0        2  \n",
      "201       19         25  19045.0        2  \n",
      "202       18         23  21485.0        2  \n",
      "203       26         27  22470.0        2  \n",
      "204       19         25  22625.0        2  \n",
      "\n",
      "[205 rows x 27 columns]\n"
     ]
    },
    {
     "name": "stderr",
     "output_type": "stream",
     "text": [
      "c:\\Users\\LENOVO\\AppData\\Local\\Programs\\Python\\Python312\\Lib\\site-packages\\sklearn\\cluster\\_kmeans.py:1416: FutureWarning: The default value of `n_init` will change from 10 to 'auto' in 1.4. Set the value of `n_init` explicitly to suppress the warning\n",
      "  super()._check_params_vs_input(X, default_n_init=10)\n"
     ]
    }
   ],
   "source": [
    "# ⭐ Dheva Marga Putra - G.231.21.0058 ⭐\n",
    "\n",
    "# Import library yang diperlukan\n",
    "from sklearn.cluster import KMeans\n",
    "import pandas as pd\n",
    "\n",
    "# Membaca data dari file CSV\n",
    "data = pd.read_csv('CarPrice_dataset.csv')  # Ganti 'nama_file.csv' dengan nama file data Anda\n",
    "\n",
    "# Memilih atribut yang akan digunakan untuk clustering\n",
    "atribut = data[['wheelbase', 'carlength', 'carwidth', 'carheight', 'curbweight', 'enginesize', 'boreratio', 'stroke', 'compressionratio', 'horsepower', 'peakrpm', 'citympg', 'highwaympg', 'price']]\n",
    "\n",
    "# Inisialisasi model K-Means dengan jumlah kluster yang diinginkan (misalnya, 3 kluster)\n",
    "n_clusters = 3\n",
    "kmeans = KMeans(n_clusters=n_clusters)\n",
    "\n",
    "# Melatih model K-Means pada data\n",
    "kmeans.fit(atribut)\n",
    "\n",
    "# Menambahkan kolom 'cluster' ke data asli yang menunjukkan kluster untuk setiap baris data\n",
    "data['cluster'] = kmeans.labels_\n",
    "\n",
    "# Menampilkan hasil\n",
    "print(data)\n"
   ]
  }
 ],
 "metadata": {
  "kernelspec": {
   "display_name": "Python 3",
   "language": "python",
   "name": "python3"
  },
  "language_info": {
   "codemirror_mode": {
    "name": "ipython",
    "version": 3
   },
   "file_extension": ".py",
   "mimetype": "text/x-python",
   "name": "python",
   "nbconvert_exporter": "python",
   "pygments_lexer": "ipython3",
   "version": "3.12.0"
  }
 },
 "nbformat": 4,
 "nbformat_minor": 2
}
